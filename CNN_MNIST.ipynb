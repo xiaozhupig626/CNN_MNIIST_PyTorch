{
 "cells": [
  {
   "cell_type": "markdown",
   "id": "0b884c98",
   "metadata": {},
   "source": [
    "# 利用CNN实现MNIST数据集的手写数字识别任务"
   ]
  },
  {
   "cell_type": "code",
   "execution_count": 23,
   "id": "8900ed13",
   "metadata": {},
   "outputs": [],
   "source": [
    "import numpy as np\n",
    "import torch\n",
    "from torch import nn as nn\n",
    "import torch.optim as optim\n",
    "import torch.nn.functional as F\n",
    "from torchvision import datasets,transforms\n",
    "import matplotlib.pyplot as plt\n",
    "%matplotlib inline\n",
    "from tqdm import tqdm"
   ]
  },
  {
   "cell_type": "markdown",
   "id": "3a9a1522",
   "metadata": {},
   "source": [
    "## 读取数据\n",
    "-分别构建训练集和测试集\n",
    "-DataLoader来迭代取数据"
   ]
  },
  {
   "cell_type": "code",
   "execution_count": 24,
   "id": "d58d9ad2",
   "metadata": {},
   "outputs": [],
   "source": [
    "# 定义超参数\n",
    "input_size = 28\n",
    "num_classes = 10\n",
    "num_epochs = 3\n",
    "batch_size = 64\n",
    "\n",
    "# 训练集\n",
    "train_dataset = datasets.MNIST(root='./data',\n",
    "                              train=True,\n",
    "                              transform=transforms.ToTensor(),\n",
    "                              download=True)\n",
    "# 测试集\n",
    "test_dataset = datasets.MNIST(root='./data',\n",
    "                              train=False,\n",
    "                              transform=transforms.ToTensor(),\n",
    "                              download=True)\n",
    "\n",
    "# 构建batch数据\n",
    "train_loader = torch.utils.data.DataLoader(dataset=train_dataset,\n",
    "                                           batch_size=batch_size,\n",
    "                                          shuffle=True)\n",
    "test_loader = torch.utils.data.DataLoader(dataset=test_dataset,\n",
    "                                         batch_size=batch_size,\n",
    "                                         shuffle=True)"
   ]
  },
  {
   "cell_type": "code",
   "execution_count": 25,
   "id": "064f03cf",
   "metadata": {},
   "outputs": [
    {
     "data": {
      "text/plain": [
       "torch.Size([1, 28, 28])"
      ]
     },
     "execution_count": 25,
     "metadata": {},
     "output_type": "execute_result"
    }
   ],
   "source": [
    "train_dataset[2][0].shape # 第二个样本的数据"
   ]
  },
  {
   "cell_type": "code",
   "execution_count": 26,
   "id": "5db2ae51",
   "metadata": {},
   "outputs": [
    {
     "data": {
      "text/plain": [
       "Dataset MNIST\n",
       "    Number of datapoints: 10000\n",
       "    Root location: ./data\n",
       "    Split: Test\n",
       "    StandardTransform\n",
       "Transform: ToTensor()"
      ]
     },
     "execution_count": 26,
     "metadata": {},
     "output_type": "execute_result"
    }
   ],
   "source": [
    "test_dataset"
   ]
  },
  {
   "cell_type": "markdown",
   "id": "451afffd",
   "metadata": {},
   "source": [
    "## 卷积网络模块的构建\n",
    "-一般卷积层，relu层，池化层可以写成一个套餐\n",
    "-注意卷积最后结果还是一个特征图，需要把图转换为向量才能做分类或者回归任务"
   ]
  },
  {
   "cell_type": "code",
   "execution_count": 27,
   "id": "a8178a37",
   "metadata": {},
   "outputs": [],
   "source": [
    "class CNN(nn.Module):\n",
    "    def __init__(self):\n",
    "        super(CNN,self).__init__()\n",
    "        self.conv1 = nn.Sequential( # 输入的大小为(1,28,28)\n",
    "            nn.Conv2d(in_channels=1,out_channels=16,kernel_size=5,stride=1,padding=2), # 输出的维度为(16,28,28)\n",
    "            nn.ReLU(), # 输出的维度(16,28,28)\n",
    "            nn.MaxPool2d(kernel_size=2) # 输出的维度(16,14,14)\n",
    "        )\n",
    "        self.conv2 = nn.Sequential( # 输入的维度(16,14,14)\n",
    "            nn.Conv2d(in_channels=16,out_channels=32,kernel_size=5,stride=1,padding=2), # 输出的维度(32,14,14)\n",
    "            nn.ReLU(), # 输出的维度(32,14,14)\n",
    "            nn.MaxPool2d(kernel_size=2) # 输出的维度(32,7,7)\n",
    "        )\n",
    "        self.out = nn.Linear(32*7*7,10) # 全连接\n",
    "        \n",
    "    def forward(self,x):\n",
    "        x = self.conv1(x)\n",
    "        x = self.conv2(x)\n",
    "        x = x.view(x.size(0),-1) # flatten操作，结果为：(batch_size,32*7*7)\n",
    "        output = self.out(x)\n",
    "        return output"
   ]
  },
  {
   "cell_type": "markdown",
   "id": "1b0337ff",
   "metadata": {},
   "source": [
    "## 准确率函数"
   ]
  },
  {
   "cell_type": "code",
   "execution_count": 28,
   "id": "058a6a79",
   "metadata": {},
   "outputs": [],
   "source": [
    "def accuracy(predictions,labels):\n",
    "    pred = torch.max(predictions.data,1)[1] # 得到最大值的下标\n",
    "    rights = pred.eq(labels.data.view_as(pred)).sum() # 得到预测准确的数目\n",
    "    return rights,len(labels)"
   ]
  },
  {
   "cell_type": "markdown",
   "id": "048c0961",
   "metadata": {},
   "source": [
    "## 训练和验证函数"
   ]
  },
  {
   "cell_type": "code",
   "execution_count": 37,
   "id": "76b2c7ba",
   "metadata": {},
   "outputs": [],
   "source": [
    "def train_val(train_loader,test_loader,criterion,optimizer):\n",
    "    # 当前的epoch的结果保存下来\n",
    "    train_rights = []\n",
    "    \n",
    "    for batch_idx,(data,target) in tqdm(enumerate(train_loader),total = len(train_loader), position = 0, leave = True):\n",
    "        net.train()\n",
    "        output = net(data)\n",
    "        loss = criterion(output,target)\n",
    "        optimizer.zero_grad()\n",
    "        loss.backward()\n",
    "        optimizer.step()\n",
    "        right= accuracy(output,target)\n",
    "        train_rights.append(right)\n",
    "    \n",
    "        if batch_idx % 100 == 0:\n",
    "            # 验证/测试\n",
    "            val_rights = []\n",
    "            for (data,target) in test_loader:\n",
    "                output = net(data)\n",
    "                right = accuracy(output,target)\n",
    "                val_rights.append(right)\n",
    "                \n",
    "            # 准确率计算\n",
    "            # 获取训练集的正确个数和总样本数，得到一个元组\n",
    "            train_r = (sum([tup[0]for tup in train_rights]),sum([tup[1] for tup in train_rights]))\n",
    "            # 获得验证集的正确个数和总样本数，得到一个元组\n",
    "            val_r = (sum([tup[0]for tup in val_rights]),sum([tup[1] for tup in val_rights]))   \n",
    "            \n",
    "            print(f'当前epoch:{epoch},损失：{loss.data.item()},训练集准确率：{np.round(100.*train_r[0].numpy()/train_r[1],5)}%,测试集准确率{np.round(100.*val_r[0].numpy()/val_r[1],5)}%')"
   ]
  },
  {
   "cell_type": "markdown",
   "id": "e3233c9c",
   "metadata": {},
   "source": [
    "## 训练网络模型"
   ]
  },
  {
   "cell_type": "code",
   "execution_count": 38,
   "id": "780feff2",
   "metadata": {},
   "outputs": [
    {
     "name": "stderr",
     "output_type": "stream",
     "text": [
      "  1%|▌                                                                                 | 7/938 [00:01<02:55,  5.32it/s]"
     ]
    },
    {
     "name": "stdout",
     "output_type": "stream",
     "text": [
      "当前epoch:1,损失：2.2879769802093506,训练集准确率：14.0625%,测试集准确率11.96%\n"
     ]
    },
    {
     "name": "stderr",
     "output_type": "stream",
     "text": [
      " 12%|█████████▎                                                                      | 109/938 [00:05<01:02, 13.17it/s]"
     ]
    },
    {
     "name": "stdout",
     "output_type": "stream",
     "text": [
      "当前epoch:1,损失：0.16246330738067627,训练集准确率：84.90099%,测试集准确率95.6%\n"
     ]
    },
    {
     "name": "stderr",
     "output_type": "stream",
     "text": [
      " 22%|█████████████████▉                                                              | 210/938 [00:08<01:00, 12.09it/s]"
     ]
    },
    {
     "name": "stdout",
     "output_type": "stream",
     "text": [
      "当前epoch:1,损失：0.0948672816157341,训练集准确率：90.31405%,测试集准确率96.91%\n"
     ]
    },
    {
     "name": "stderr",
     "output_type": "stream",
     "text": [
      " 33%|██████████████████████████▏                                                     | 307/938 [00:12<00:53, 11.76it/s]"
     ]
    },
    {
     "name": "stdout",
     "output_type": "stream",
     "text": [
      "当前epoch:1,损失：0.23753592371940613,训练集准确率：92.45224%,测试集准确率97.77%\n"
     ]
    },
    {
     "name": "stderr",
     "output_type": "stream",
     "text": [
      " 43%|██████████████████████████████████▊                                             | 408/938 [00:16<00:39, 13.28it/s]"
     ]
    },
    {
     "name": "stdout",
     "output_type": "stream",
     "text": [
      "当前epoch:1,损失：0.13571897149085999,训练集准确率：93.65648%,测试集准确率97.93%\n"
     ]
    },
    {
     "name": "stderr",
     "output_type": "stream",
     "text": [
      " 54%|███████████████████████████████████████████▍                                    | 510/938 [00:19<00:34, 12.54it/s]"
     ]
    },
    {
     "name": "stdout",
     "output_type": "stream",
     "text": [
      "当前epoch:1,损失：0.20600497722625732,训练集准确率：94.40806%,测试集准确率98.39%\n"
     ]
    },
    {
     "name": "stderr",
     "output_type": "stream",
     "text": [
      " 65%|████████████████████████████████████████████████████                            | 611/938 [00:23<00:25, 12.74it/s]"
     ]
    },
    {
     "name": "stdout",
     "output_type": "stream",
     "text": [
      "当前epoch:1,损失：0.058954231441020966,训练集准确率：95.01872%,测试集准确率98.45%\n"
     ]
    },
    {
     "name": "stderr",
     "output_type": "stream",
     "text": [
      " 76%|████████████████████████████████████████████████████████████▌                   | 710/938 [00:27<00:18, 12.07it/s]"
     ]
    },
    {
     "name": "stdout",
     "output_type": "stream",
     "text": [
      "当前epoch:1,损失：0.0011798848863691092,训练集准确率：95.44178%,测试集准确率98.41%\n"
     ]
    },
    {
     "name": "stderr",
     "output_type": "stream",
     "text": [
      " 86%|████████████████████████████████████████████████████████████████████▉           | 808/938 [00:30<00:10, 11.99it/s]"
     ]
    },
    {
     "name": "stdout",
     "output_type": "stream",
     "text": [
      "当前epoch:1,损失：0.06992898881435394,训练集准确率：95.75726%,测试集准确率98.32%\n"
     ]
    },
    {
     "name": "stderr",
     "output_type": "stream",
     "text": [
      " 97%|█████████████████████████████████████████████████████████████████████████████▌  | 909/938 [00:34<00:02, 12.16it/s]"
     ]
    },
    {
     "name": "stdout",
     "output_type": "stream",
     "text": [
      "当前epoch:1,损失：0.05768150836229324,训练集准确率：96.00444%,测试集准确率98.47%\n"
     ]
    },
    {
     "name": "stderr",
     "output_type": "stream",
     "text": [
      "100%|████████████████████████████████████████████████████████████████████████████████| 938/938 [00:35<00:00, 26.63it/s]\n",
      "  1%|▌                                                                                 | 7/938 [00:01<03:03,  5.08it/s]"
     ]
    },
    {
     "name": "stdout",
     "output_type": "stream",
     "text": [
      "当前epoch:2,损失：0.003348784288391471,训练集准确率：100.0%,测试集准确率98.4%\n"
     ]
    },
    {
     "name": "stderr",
     "output_type": "stream",
     "text": [
      " 12%|█████████▏                                                                      | 108/938 [00:05<01:20, 10.37it/s]"
     ]
    },
    {
     "name": "stdout",
     "output_type": "stream",
     "text": [
      "当前epoch:2,损失：0.058884285390377045,训练集准确率：98.63861%,测试集准确率98.34%\n"
     ]
    },
    {
     "name": "stderr",
     "output_type": "stream",
     "text": [
      " 22%|█████████████████▋                                                              | 208/938 [00:09<01:10, 10.42it/s]"
     ]
    },
    {
     "name": "stdout",
     "output_type": "stream",
     "text": [
      "当前epoch:2,损失：0.020244725048542023,训练集准确率：98.49969%,测试集准确率98.4%\n"
     ]
    },
    {
     "name": "stderr",
     "output_type": "stream",
     "text": [
      " 33%|██████████████████████████▎                                                     | 308/938 [00:13<01:00, 10.48it/s]"
     ]
    },
    {
     "name": "stdout",
     "output_type": "stream",
     "text": [
      "当前epoch:2,损失：0.06680842489004135,训练集准确率：98.54132%,测试集准确率98.46%\n"
     ]
    },
    {
     "name": "stderr",
     "output_type": "stream",
     "text": [
      " 43%|██████████████████████████████████▊                                             | 408/938 [00:17<00:54,  9.71it/s]"
     ]
    },
    {
     "name": "stdout",
     "output_type": "stream",
     "text": [
      "当前epoch:2,损失：0.06239129230380058,训练集准确率：98.56998%,测试集准确率98.82%\n"
     ]
    },
    {
     "name": "stderr",
     "output_type": "stream",
     "text": [
      " 54%|███████████████████████████████████████████▎                                    | 508/938 [00:21<00:42, 10.21it/s]"
     ]
    },
    {
     "name": "stdout",
     "output_type": "stream",
     "text": [
      "当前epoch:2,损失：0.12983562052249908,训练集准确率：98.56537%,测试集准确率98.69%\n"
     ]
    },
    {
     "name": "stderr",
     "output_type": "stream",
     "text": [
      " 65%|███████████████████████████████████████████████████▊                            | 608/938 [00:25<00:31, 10.41it/s]"
     ]
    },
    {
     "name": "stdout",
     "output_type": "stream",
     "text": [
      "当前epoch:2,损失：0.026609448716044426,训练集准确率：98.57009%,测试集准确率98.73%\n"
     ]
    },
    {
     "name": "stderr",
     "output_type": "stream",
     "text": [
      " 75%|████████████████████████████████████████████████████████████▎                   | 707/938 [00:29<00:22, 10.26it/s]"
     ]
    },
    {
     "name": "stdout",
     "output_type": "stream",
     "text": [
      "当前epoch:2,损失：0.12852519750595093,训练集准确率：98.5757%,测试集准确率98.62%\n"
     ]
    },
    {
     "name": "stderr",
     "output_type": "stream",
     "text": [
      " 86%|████████████████████████████████████████████████████████████████████▊           | 807/938 [00:33<00:13,  9.98it/s]"
     ]
    },
    {
     "name": "stdout",
     "output_type": "stream",
     "text": [
      "当前epoch:2,损失：0.05168810486793518,训练集准确率：98.55064%,测试集准确率98.03%\n"
     ]
    },
    {
     "name": "stderr",
     "output_type": "stream",
     "text": [
      " 97%|█████████████████████████████████████████████████████████████████████████████▎  | 907/938 [00:37<00:03, 10.25it/s]"
     ]
    },
    {
     "name": "stdout",
     "output_type": "stream",
     "text": [
      "当前epoch:2,损失：0.005207865033298731,训练集准确率：98.55369%,测试集准确率98.79%\n"
     ]
    },
    {
     "name": "stderr",
     "output_type": "stream",
     "text": [
      "100%|████████████████████████████████████████████████████████████████████████████████| 938/938 [00:38<00:00, 24.47it/s]\n",
      "  1%|▌                                                                                 | 6/938 [00:01<03:50,  4.05it/s]"
     ]
    },
    {
     "name": "stdout",
     "output_type": "stream",
     "text": [
      "当前epoch:3,损失：0.010867721401154995,训练集准确率：100.0%,测试集准确率98.55%\n"
     ]
    },
    {
     "name": "stderr",
     "output_type": "stream",
     "text": [
      " 11%|█████████                                                                       | 106/938 [00:06<01:24,  9.86it/s]"
     ]
    },
    {
     "name": "stdout",
     "output_type": "stream",
     "text": [
      "当前epoch:3,损失：0.02380608394742012,训练集准确率：98.87067%,测试集准确率98.76%\n"
     ]
    },
    {
     "name": "stderr",
     "output_type": "stream",
     "text": [
      " 22%|█████████████████▌                                                              | 206/938 [00:10<01:11, 10.22it/s]"
     ]
    },
    {
     "name": "stdout",
     "output_type": "stream",
     "text": [
      "当前epoch:3,损失：0.022123737260699272,训练集准确率：98.93501%,测试集准确率98.73%\n"
     ]
    },
    {
     "name": "stderr",
     "output_type": "stream",
     "text": [
      " 33%|██████████████████████████                                                      | 306/938 [00:14<01:01, 10.33it/s]"
     ]
    },
    {
     "name": "stdout",
     "output_type": "stream",
     "text": [
      "当前epoch:3,损失：0.04047602787613869,训练集准确率：99.02409%,测试集准确率98.69%\n"
     ]
    },
    {
     "name": "stderr",
     "output_type": "stream",
     "text": [
      " 43%|██████████████████████████████████▋                                             | 406/938 [00:18<00:52, 10.07it/s]"
     ]
    },
    {
     "name": "stdout",
     "output_type": "stream",
     "text": [
      "当前epoch:3,损失：0.1586921215057373,训练集准确率：98.95963%,测试集准确率98.77%\n"
     ]
    },
    {
     "name": "stderr",
     "output_type": "stream",
     "text": [
      " 54%|███████████████████████████████████████████▏                                    | 506/938 [00:22<00:42, 10.28it/s]"
     ]
    },
    {
     "name": "stdout",
     "output_type": "stream",
     "text": [
      "当前epoch:3,损失：0.005970741622149944,训练集准确率：98.94274%,测试集准确率98.78%\n"
     ]
    },
    {
     "name": "stderr",
     "output_type": "stream",
     "text": [
      " 65%|███████████████████████████████████████████████████▋                            | 606/938 [00:26<00:32, 10.21it/s]"
     ]
    },
    {
     "name": "stdout",
     "output_type": "stream",
     "text": [
      "当前epoch:3,损失：0.10967163741588593,训练集准确率：98.94967%,测试集准确率98.81%\n"
     ]
    },
    {
     "name": "stderr",
     "output_type": "stream",
     "text": [
      " 75%|████████████████████████████████████████████████████████████▏                   | 706/938 [00:30<00:23, 10.05it/s]"
     ]
    },
    {
     "name": "stdout",
     "output_type": "stream",
     "text": [
      "当前epoch:3,损失：0.03585703298449516,训练集准确率：98.9301%,测试集准确率98.62%\n"
     ]
    },
    {
     "name": "stderr",
     "output_type": "stream",
     "text": [
      " 86%|████████████████████████████████████████████████████████████████████▋           | 806/938 [00:34<00:13,  9.51it/s]"
     ]
    },
    {
     "name": "stdout",
     "output_type": "stream",
     "text": [
      "当前epoch:3,损失：0.02716967463493347,训练集准确率：98.90566%,测试集准确率98.83%\n"
     ]
    },
    {
     "name": "stderr",
     "output_type": "stream",
     "text": [
      " 97%|█████████████████████████████████████████████████████████████████████████████▎  | 906/938 [00:38<00:03, 10.35it/s]"
     ]
    },
    {
     "name": "stdout",
     "output_type": "stream",
     "text": [
      "当前epoch:3,损失：0.050107236951589584,训练集准确率：98.89012%,测试集准确率98.88%\n"
     ]
    },
    {
     "name": "stderr",
     "output_type": "stream",
     "text": [
      "100%|████████████████████████████████████████████████████████████████████████████████| 938/938 [00:39<00:00, 23.97it/s]\n"
     ]
    }
   ],
   "source": [
    "# 实例化\n",
    "net = CNN()\n",
    "# 损失函数\n",
    "criterion = nn.CrossEntropyLoss()\n",
    "# 优化器\n",
    "optimizer = optim.Adam(net.parameters(),lr=0.005)\n",
    "\n",
    "# 开始训练\n",
    "for epoch in range(1,num_epochs+1):\n",
    "    train_val(train_loader,test_loader,criterion,optimizer)"
   ]
  },
  {
   "cell_type": "code",
   "execution_count": null,
   "id": "736d5966",
   "metadata": {},
   "outputs": [],
   "source": []
  }
 ],
 "metadata": {
  "kernelspec": {
   "display_name": "Python 3",
   "language": "python",
   "name": "python3"
  },
  "language_info": {
   "codemirror_mode": {
    "name": "ipython",
    "version": 3
   },
   "file_extension": ".py",
   "mimetype": "text/x-python",
   "name": "python",
   "nbconvert_exporter": "python",
   "pygments_lexer": "ipython3",
   "version": "3.8.8"
  }
 },
 "nbformat": 4,
 "nbformat_minor": 5
}
